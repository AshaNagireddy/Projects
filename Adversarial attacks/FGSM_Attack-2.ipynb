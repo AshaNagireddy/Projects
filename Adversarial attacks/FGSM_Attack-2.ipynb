{
 "cells": [
  {
   "cell_type": "code",
   "execution_count": 1,
   "metadata": {
    "colab": {
     "base_uri": "https://localhost:8080/"
    },
    "id": "eBsLelavnv0u",
    "outputId": "511cdead-1483-4a8c-dde6-682f385e7608"
   },
   "outputs": [
    {
     "name": "stdout",
     "output_type": "stream",
     "text": [
      "\u001b[K     |████████████████████████████████| 87.9MB 51kB/s \n",
      "\u001b[K     |████████████████████████████████| 51kB 8.3MB/s \n",
      "\u001b[K     |████████████████████████████████| 501kB 49.8MB/s \n",
      "\u001b[K     |████████████████████████████████| 3.1MB 47.9MB/s \n",
      "\u001b[?25h"
     ]
    },
    {
     "name": "stderr",
     "output_type": "stream",
     "text": [
      "/usr/local/lib/python3.6/dist-packages/tensorflow/python/framework/dtypes.py:516: FutureWarning: Passing (type, 1) or '1type' as a synonym of type is deprecated; in a future version of numpy, it will be understood as (type, (1,)) / '(1,)type'.\n",
      "  _np_qint8 = np.dtype([(\"qint8\", np.int8, 1)])\n",
      "/usr/local/lib/python3.6/dist-packages/tensorflow/python/framework/dtypes.py:517: FutureWarning: Passing (type, 1) or '1type' as a synonym of type is deprecated; in a future version of numpy, it will be understood as (type, (1,)) / '(1,)type'.\n",
      "  _np_quint8 = np.dtype([(\"quint8\", np.uint8, 1)])\n",
      "/usr/local/lib/python3.6/dist-packages/tensorflow/python/framework/dtypes.py:518: FutureWarning: Passing (type, 1) or '1type' as a synonym of type is deprecated; in a future version of numpy, it will be understood as (type, (1,)) / '(1,)type'.\n",
      "  _np_qint16 = np.dtype([(\"qint16\", np.int16, 1)])\n",
      "/usr/local/lib/python3.6/dist-packages/tensorflow/python/framework/dtypes.py:519: FutureWarning: Passing (type, 1) or '1type' as a synonym of type is deprecated; in a future version of numpy, it will be understood as (type, (1,)) / '(1,)type'.\n",
      "  _np_quint16 = np.dtype([(\"quint16\", np.uint16, 1)])\n",
      "/usr/local/lib/python3.6/dist-packages/tensorflow/python/framework/dtypes.py:520: FutureWarning: Passing (type, 1) or '1type' as a synonym of type is deprecated; in a future version of numpy, it will be understood as (type, (1,)) / '(1,)type'.\n",
      "  _np_qint32 = np.dtype([(\"qint32\", np.int32, 1)])\n",
      "/usr/local/lib/python3.6/dist-packages/tensorflow/python/framework/dtypes.py:525: FutureWarning: Passing (type, 1) or '1type' as a synonym of type is deprecated; in a future version of numpy, it will be understood as (type, (1,)) / '(1,)type'.\n",
      "  np_resource = np.dtype([(\"resource\", np.ubyte, 1)])\n"
     ]
    },
    {
     "name": "stdout",
     "output_type": "stream",
     "text": [
      "2.0.0-beta1\n",
      "GPU Available:  False\n"
     ]
    },
    {
     "name": "stderr",
     "output_type": "stream",
     "text": [
      "/usr/local/lib/python3.6/dist-packages/tensorboard/compat/tensorflow_stub/dtypes.py:541: FutureWarning: Passing (type, 1) or '1type' as a synonym of type is deprecated; in a future version of numpy, it will be understood as (type, (1,)) / '(1,)type'.\n",
      "  _np_qint8 = np.dtype([(\"qint8\", np.int8, 1)])\n",
      "/usr/local/lib/python3.6/dist-packages/tensorboard/compat/tensorflow_stub/dtypes.py:542: FutureWarning: Passing (type, 1) or '1type' as a synonym of type is deprecated; in a future version of numpy, it will be understood as (type, (1,)) / '(1,)type'.\n",
      "  _np_quint8 = np.dtype([(\"quint8\", np.uint8, 1)])\n",
      "/usr/local/lib/python3.6/dist-packages/tensorboard/compat/tensorflow_stub/dtypes.py:543: FutureWarning: Passing (type, 1) or '1type' as a synonym of type is deprecated; in a future version of numpy, it will be understood as (type, (1,)) / '(1,)type'.\n",
      "  _np_qint16 = np.dtype([(\"qint16\", np.int16, 1)])\n",
      "/usr/local/lib/python3.6/dist-packages/tensorboard/compat/tensorflow_stub/dtypes.py:544: FutureWarning: Passing (type, 1) or '1type' as a synonym of type is deprecated; in a future version of numpy, it will be understood as (type, (1,)) / '(1,)type'.\n",
      "  _np_quint16 = np.dtype([(\"quint16\", np.uint16, 1)])\n",
      "/usr/local/lib/python3.6/dist-packages/tensorboard/compat/tensorflow_stub/dtypes.py:545: FutureWarning: Passing (type, 1) or '1type' as a synonym of type is deprecated; in a future version of numpy, it will be understood as (type, (1,)) / '(1,)type'.\n",
      "  _np_qint32 = np.dtype([(\"qint32\", np.int32, 1)])\n",
      "/usr/local/lib/python3.6/dist-packages/tensorboard/compat/tensorflow_stub/dtypes.py:550: FutureWarning: Passing (type, 1) or '1type' as a synonym of type is deprecated; in a future version of numpy, it will be understood as (type, (1,)) / '(1,)type'.\n",
      "  np_resource = np.dtype([(\"resource\", np.ubyte, 1)])\n"
     ]
    }
   ],
   "source": [
    "!pip install -q tensorflow==2.0.0b1\n",
    "\n",
    "import tensorflow as tf\n",
    "import numpy as np\n",
    "import matplotlib.pyplot as plt\n",
    "\n",
    "print(tf.__version__)\n",
    "print(\"GPU Available: \", tf.test.is_gpu_available())"
   ]
  },
  {
   "cell_type": "code",
   "execution_count": 2,
   "metadata": {
    "colab": {
     "base_uri": "https://localhost:8080/"
    },
    "id": "uQVP1re__pbf",
    "outputId": "d97290df-6ad9-4b1e-be31-54ac8a1d921a"
   },
   "outputs": [
    {
     "name": "stdout",
     "output_type": "stream",
     "text": [
      "Downloading data from https://storage.googleapis.com/tensorflow/tf-keras-datasets/mnist.npz\n",
      "11493376/11490434 [==============================] - 0s 0us/step\n",
      "WARNING:tensorflow:From /usr/local/lib/python3.6/dist-packages/tensorflow/python/ops/math_grad.py:1250: add_dispatch_support.<locals>.wrapper (from tensorflow.python.ops.array_ops) is deprecated and will be removed in a future version.\n",
      "Instructions for updating:\n",
      "Use tf.where in 2.0, which has the same broadcast rule as np.where\n",
      "Train on 48000 samples, validate on 12000 samples\n",
      "Epoch 1/10\n",
      "48000/48000 [==============================] - 3s 63us/sample - loss: 0.3949 - accuracy: 0.8860 - val_loss: 0.2124 - val_accuracy: 0.9377\n",
      "Epoch 2/10\n",
      "48000/48000 [==============================] - 3s 57us/sample - loss: 0.1892 - accuracy: 0.9442 - val_loss: 0.1634 - val_accuracy: 0.9524\n",
      "Epoch 3/10\n",
      "48000/48000 [==============================] - 3s 58us/sample - loss: 0.1502 - accuracy: 0.9552 - val_loss: 0.1549 - val_accuracy: 0.9533\n",
      "Epoch 4/10\n",
      "48000/48000 [==============================] - 3s 58us/sample - loss: 0.1283 - accuracy: 0.9615 - val_loss: 0.1325 - val_accuracy: 0.9604\n",
      "Epoch 5/10\n",
      "48000/48000 [==============================] - 3s 59us/sample - loss: 0.1115 - accuracy: 0.9664 - val_loss: 0.1265 - val_accuracy: 0.9622\n",
      "Epoch 6/10\n",
      "48000/48000 [==============================] - 3s 59us/sample - loss: 0.0990 - accuracy: 0.9701 - val_loss: 0.1194 - val_accuracy: 0.9653\n",
      "Epoch 7/10\n",
      "48000/48000 [==============================] - 3s 58us/sample - loss: 0.0898 - accuracy: 0.9735 - val_loss: 0.1260 - val_accuracy: 0.9626\n",
      "Epoch 8/10\n",
      "48000/48000 [==============================] - 3s 58us/sample - loss: 0.0810 - accuracy: 0.9761 - val_loss: 0.1267 - val_accuracy: 0.9615\n",
      "Epoch 9/10\n",
      "48000/48000 [==============================] - 3s 59us/sample - loss: 0.0753 - accuracy: 0.9777 - val_loss: 0.1236 - val_accuracy: 0.9638\n",
      "Epoch 10/10\n",
      "48000/48000 [==============================] - 3s 59us/sample - loss: 0.0686 - accuracy: 0.9794 - val_loss: 0.1279 - val_accuracy: 0.9614\n",
      "10000/10000 [==============================] - 0s 25us/sample - loss: 0.1230 - accuracy: 0.9657\n",
      "Test accuracy: 0.9657\n"
     ]
    }
   ],
   "source": [
    "mnist = tf.keras.datasets.mnist\n",
    "(train_images, train_labels), (test_images, test_labels) = mnist.load_data()\n",
    "\n",
    "train_images = train_images / 255.0\n",
    "test_images = test_images / 255.0\n",
    "\n",
    "num_classes = 10\n",
    "\n",
    "model = tf.keras.Sequential([\n",
    "    tf.keras.layers.Flatten(input_shape=(28, 28)),\n",
    "    tf.keras.layers.Dense(32, activation=tf.nn.relu),\n",
    "    tf.keras.layers.Dense(16, activation=tf.nn.relu),\n",
    "    tf.keras.layers.Dense(10, activation=tf.nn.softmax)\n",
    "])\n",
    "\n",
    "model.compile(optimizer='adam',\n",
    "              loss= 'sparse_categorical_crossentropy',\n",
    "              metrics=['accuracy'])\n",
    "\n",
    "model.fit(train_images, train_labels, epochs=10, validation_split=0.2)\n",
    "test_loss, test_acc = model.evaluate(test_images, test_labels)\n",
    "\n",
    "print('Test accuracy:', test_acc)"
   ]
  },
  {
   "cell_type": "code",
   "execution_count": 3,
   "metadata": {
    "id": "wA7_JKrm1wsm"
   },
   "outputs": [],
   "source": [
    "random_index = np.random.randint(test_images.shape[0])\n",
    "\n",
    "original_image = train_images[random_index]\n",
    "original_image = tf.convert_to_tensor(original_image.reshape((1,28,28))) #The .reshape just gives it the proper form to input into the model, a batch of 1 a.k.a a tensor\n",
    "\n",
    "original_label = tf.one_hot(train_labels[random_index], num_classes)"
   ]
  },
  {
   "cell_type": "markdown",
   "metadata": {
    "id": "sklj9G-JJPRY"
   },
   "source": [
    "We can then look at the image and at it's label."
   ]
  },
  {
   "cell_type": "code",
   "execution_count": 4,
   "metadata": {
    "colab": {
     "base_uri": "https://localhost:8080/",
     "height": 280
    },
    "id": "k0ir_rYeJW6m",
    "outputId": "328386ac-2068-4563-e806-2ae7e2a5e791"
   },
   "outputs": [
    {
     "data": {
      "image/png": "[encoded data removed]",
      "text/plain": [
       "<Figure size 432x288 with 1 Axes>"
      ]
     },
     "metadata": {
      "needs_background": "light",
      "tags": []
     },
     "output_type": "display_data"
    }
   ],
   "source": [
    "plt.figure()\n",
    "plt.grid(False)\n",
    "\n",
    "plt.imshow(np.reshape(original_image, (28,28)))\n",
    "plt.title(\"Label: {}\".format(np.argmax(original_label)))\n",
    "\n",
    "plt.show()"
   ]
  },
  {
   "cell_type": "code",
   "execution_count": 5,
   "metadata": {
    "id": "d4y5A8-L3gqh"
   },
   "outputs": [],
   "source": [
    "def create_perturbation(modelfn, input_image, original_label):\n",
    "  loss_object = tf.keras.losses.CategoricalCrossentropy()\n",
    "  \n",
    "  # Reference the docs for GradientTape in tf2.0 for more info\n",
    "  with tf.GradientTape() as gt:\n",
    "    # Define the calculation that needs to be derived\n",
    "    gt.watch(input_image)\n",
    "    prediction = modelfn(input_image)\n",
    "    loss = loss_object(original_label, prediction)\n",
    "  \n",
    "  # Get the gradients for the loss w.r.t image\n",
    "  grads = gt.gradient(loss, input_image)\n",
    "  perturbation = tf.sign(grads)\n",
    "\n",
    "  return perturbation"
   ]
  },
  {
   "cell_type": "markdown",
   "metadata": {
    "id": "KF8IBC-2k8Pf"
   },
   "source": [
    "We can now create the respective perturbation for the image we chose earlier and see what it looks like and what the model classifies it as.\n"
   ]
  },
  {
   "cell_type": "code",
   "execution_count": 6,
   "metadata": {
    "colab": {
     "base_uri": "https://localhost:8080/",
     "height": 294
    },
    "id": "2SnsIwWkSbZn",
    "outputId": "992a6343-0cf7-4947-dfbe-f356ec36dcba"
   },
   "outputs": [
    {
     "data": {
      "image/png": "[encoded data removed]",
      "text/plain": [
       "<Figure size 432x288 with 1 Axes>"
      ]
     },
     "metadata": {
      "needs_background": "light",
      "tags": []
     },
     "output_type": "display_data"
    }
   ],
   "source": [
    "perturbation = create_perturbation(model, original_image, original_label)\n",
    "perturbation_pred = model.predict(perturbation)\n",
    "\n",
    "plt.figure()\n",
    "plt.grid(False)\n",
    "plt.imshow(np.reshape(perturbation,(28,28)))\n",
    "plt.title(\"Classification of: {}\".format(np.argmax(perturbation_pred)))\n",
    "plt.xlabel(\"Confidence of: {}\".format(np.max(perturbation_pred)))\n",
    "\n",
    "plt.show()"
   ]
  },
  {
   "cell_type": "code",
   "execution_count": 7,
   "metadata": {
    "id": "HpiGG_U0pkCP"
   },
   "outputs": [],
   "source": [
    "def fgsm(modelfn, input_image, original_label, epsilon):\n",
    "  perturbation = create_perturbation(modelfn, input_image, original_label)\n",
    "\n",
    "  adv_example = input_image + (perturbation * epsilon)\n",
    "\n",
    "  return adv_example"
   ]
  },
  {
   "cell_type": "code",
   "execution_count": 8,
   "metadata": {
    "id": "-iH1hlEvy13G"
   },
   "outputs": [],
   "source": [
    "epsilon = 0.1\n",
    "\n",
    "adv_image = fgsm(model, original_image, original_label, epsilon)\n",
    "adv_image_pred = model.predict(adv_image)"
   ]
  },
  {
   "cell_type": "markdown",
   "metadata": {
    "id": "ukkD4c7jAeOP"
   },
   "source": [
    "Let's se what this looks like:"
   ]
  },
  {
   "cell_type": "code",
   "execution_count": 9,
   "metadata": {
    "colab": {
     "base_uri": "https://localhost:8080/",
     "height": 294
    },
    "id": "hTnu62E769Ut",
    "outputId": "d10da00b-e9cc-4989-e6c5-b9be176bf22e"
   },
   "outputs": [
    {
     "data": {
      "image/png": "[encoded data removed]",
      "text/plain": [
       "<Figure size 432x288 with 3 Axes>"
      ]
     },
     "metadata": {
      "needs_background": "light",
      "tags": []
     },
     "output_type": "display_data"
    }
   ],
   "source": [
    "plt.figure()\n",
    "plt.grid(False)\n",
    "\n",
    "plt.subplot(1,3,1)\n",
    "plt.subplots_adjust(right = 2)\n",
    "plt.title(\"Original Image\")\n",
    "plt.imshow(np.reshape(original_image,(28,28)))\n",
    "plt.xlabel(\"Label: {}\".format(np.argmax(original_label)))\n",
    "\n",
    "plt.subplot(1,3,2)\n",
    "plt.subplots_adjust(right = 2)\n",
    "plt.title(\"Perturbation\")\n",
    "plt.imshow(np.reshape(perturbation,(28,28)))\n",
    "\n",
    "\n",
    "plt.subplot(1,3,3)\n",
    "plt.subplots_adjust(right = 2)\n",
    "plt.title(\"Adversarial Image\")\n",
    "plt.imshow(np.reshape(adv_image,(28,28)))\n",
    "plt.xlabel(\"Classification: {} - Confidence: {}\".format(np.argmax(adv_image_pred),np.max(adv_image_pred)))\n",
    "\n",
    "plt.show()"
   ]
  },
  {
   "cell_type": "code",
   "execution_count": null,
   "metadata": {
    "colab": {
     "base_uri": "https://localhost:8080/",
     "height": 34
    },
    "id": "XWh6ANBMwucG",
    "outputId": "3db76130-3fae-4c73-b57c-90476ff98810"
   },
   "outputs": [
    {
     "name": "stdout",
     "output_type": "stream",
     "text": [
      "Classification: 4 - Confidence: 0.9853760600090027\n"
     ]
    }
   ],
   "source": [
    "epsilon = 0.01\n",
    "adv_image = fgsm(model, original_image, original_label, epsilon)\n",
    "adv_image_pred = model.predict(adv_image)\n",
    "print(\"Classification: {} - Confidence: {}\".format(np.argmax(adv_image_pred),np.max(adv_image_pred)))"
   ]
  },
  {
   "cell_type": "code",
   "execution_count": null,
   "metadata": {
    "colab": {
     "base_uri": "https://localhost:8080/",
     "height": 1000
    },
    "id": "fkyNMHLUv860",
    "outputId": "351b41a5-a22d-4366-8a38-9b2f73e80175"
   },
   "outputs": [
    {
     "name": "stdout",
     "output_type": "stream",
     "text": [
      "epsilon value= 0.001\n",
      "Classification: 4 - Confidence: 0.9996482133865356\n",
      "epsilon value= 0.002\n",
      "Classification: 4 - Confidence: 0.9994961023330688\n",
      "epsilon value= 0.003\n",
      "Classification: 4 - Confidence: 0.9992594122886658\n",
      "epsilon value= 0.004\n",
      "Classification: 4 - Confidence: 0.9988881945610046\n",
      "epsilon value= 0.005\n",
      "Classification: 4 - Confidence: 0.9983028173446655\n",
      "epsilon value= 0.006\n",
      "Classification: 4 - Confidence: 0.9973772764205933\n",
      "epsilon value= 0.007\n",
      "Classification: 4 - Confidence: 0.9959105253219604\n",
      "epsilon value= 0.008\n",
      "Classification: 4 - Confidence: 0.99366694688797\n",
      "epsilon value= 0.009000000000000001\n",
      "Classification: 4 - Confidence: 0.9903851747512817\n",
      "epsilon value= 0.01\n",
      "Classification: 4 - Confidence: 0.9853760600090027\n",
      "epsilon value= 0.011\n",
      "Classification: 4 - Confidence: 0.9777602553367615\n",
      "epsilon value= 0.012\n",
      "Classification: 4 - Confidence: 0.9662553071975708\n",
      "epsilon value= 0.013000000000000001\n",
      "Classification: 4 - Confidence: 0.9490466117858887\n",
      "epsilon value= 0.014\n",
      "Classification: 4 - Confidence: 0.9236906170845032\n",
      "epsilon value= 0.015\n",
      "Classification: 4 - Confidence: 0.8871513605117798\n",
      "epsilon value= 0.016\n",
      "Classification: 4 - Confidence: 0.8361554741859436\n",
      "epsilon value= 0.017\n",
      "Classification: 4 - Confidence: 0.7678945660591125\n",
      "epsilon value= 0.018000000000000002\n",
      "Classification: 4 - Confidence: 0.6818361878395081\n",
      "epsilon value= 0.019\n",
      "Classification: 4 - Confidence: 0.5812258124351501\n",
      "epsilon value= 0.02\n",
      "Classification: 6 - Confidence: 0.5256401896476746\n",
      "epsilon value= 0.021\n",
      "Classification: 6 - Confidence: 0.6311311721801758\n",
      "epsilon value= 0.022\n",
      "Classification: 6 - Confidence: 0.7253816723823547\n",
      "epsilon value= 0.023\n",
      "Classification: 6 - Confidence: 0.8030264377593994\n",
      "epsilon value= 0.024\n",
      "Classification: 6 - Confidence: 0.862831711769104\n",
      "epsilon value= 0.025\n",
      "Classification: 6 - Confidence: 0.9065559506416321\n",
      "epsilon value= 0.026000000000000002\n",
      "Classification: 6 - Confidence: 0.9373223781585693\n",
      "epsilon value= 0.027\n",
      "Classification: 6 - Confidence: 0.9583948850631714\n",
      "epsilon value= 0.028\n",
      "Classification: 6 - Confidence: 0.9725642800331116\n",
      "epsilon value= 0.029\n",
      "Classification: 6 - Confidence: 0.9819765090942383\n",
      "epsilon value= 0.03\n",
      "Classification: 6 - Confidence: 0.9881794452667236\n",
      "epsilon value= 0.031\n",
      "Classification: 6 - Confidence: 0.9922478199005127\n",
      "epsilon value= 0.032\n",
      "Classification: 6 - Confidence: 0.9949087500572205\n",
      "epsilon value= 0.033\n",
      "Classification: 6 - Confidence: 0.99664705991745\n",
      "epsilon value= 0.034\n",
      "Classification: 6 - Confidence: 0.9977828860282898\n",
      "epsilon value= 0.035\n",
      "Classification: 6 - Confidence: 0.9985254406929016\n",
      "epsilon value= 0.036000000000000004\n",
      "Classification: 6 - Confidence: 0.9990118741989136\n",
      "epsilon value= 0.037\n",
      "Classification: 6 - Confidence: 0.9993316531181335\n",
      "epsilon value= 0.038\n",
      "Classification: 6 - Confidence: 0.9995427131652832\n",
      "epsilon value= 0.039\n",
      "Classification: 6 - Confidence: 0.9996827840805054\n",
      "epsilon value= 0.04\n",
      "Classification: 6 - Confidence: 0.999776303768158\n",
      "epsilon value= 0.041\n",
      "Classification: 6 - Confidence: 0.9998394250869751\n",
      "epsilon value= 0.042\n",
      "Classification: 6 - Confidence: 0.9998823404312134\n",
      "epsilon value= 0.043000000000000003\n",
      "Classification: 6 - Confidence: 0.9999120235443115\n",
      "epsilon value= 0.044\n",
      "Classification: 6 - Confidence: 0.9999328851699829\n",
      "epsilon value= 0.045\n",
      "Classification: 6 - Confidence: 0.9999477863311768\n",
      "epsilon value= 0.046\n",
      "Classification: 6 - Confidence: 0.9999585151672363\n",
      "epsilon value= 0.047\n",
      "Classification: 6 - Confidence: 0.9999654293060303\n",
      "epsilon value= 0.048\n",
      "Classification: 6 - Confidence: 0.999970555305481\n",
      "epsilon value= 0.049\n",
      "Classification: 6 - Confidence: 0.9999747276306152\n",
      "epsilon value= 0.05\n",
      "Classification: 6 - Confidence: 0.9999781847000122\n",
      "epsilon value= 0.051000000000000004\n",
      "Classification: 6 - Confidence: 0.9999797344207764\n",
      "epsilon value= 0.052000000000000005\n",
      "Classification: 6 - Confidence: 0.9999805688858032\n",
      "epsilon value= 0.053\n",
      "Classification: 6 - Confidence: 0.9999815225601196\n",
      "epsilon value= 0.054\n",
      "Classification: 6 - Confidence: 0.999982476234436\n",
      "epsilon value= 0.055\n",
      "Classification: 6 - Confidence: 0.9999830722808838\n",
      "epsilon value= 0.056\n",
      "Classification: 6 - Confidence: 0.9999839067459106\n",
      "epsilon value= 0.057\n",
      "Classification: 6 - Confidence: 0.999984622001648\n",
      "epsilon value= 0.058\n",
      "Classification: 6 - Confidence: 0.9999850988388062\n",
      "epsilon value= 0.059000000000000004\n",
      "Classification: 6 - Confidence: 0.9999856948852539\n",
      "epsilon value= 0.06\n",
      "Classification: 6 - Confidence: 0.9999864101409912\n",
      "epsilon value= 0.061\n",
      "Classification: 6 - Confidence: 0.9999867677688599\n",
      "epsilon value= 0.062\n",
      "Classification: 6 - Confidence: 0.9999871253967285\n",
      "epsilon value= 0.063\n",
      "Classification: 6 - Confidence: 0.9999873638153076\n",
      "epsilon value= 0.064\n",
      "Classification: 6 - Confidence: 0.9999876022338867\n",
      "epsilon value= 0.065\n",
      "Classification: 6 - Confidence: 0.9999878406524658\n",
      "epsilon value= 0.066\n",
      "Classification: 6 - Confidence: 0.9999881982803345\n",
      "epsilon value= 0.067\n",
      "Classification: 6 - Confidence: 0.999988317489624\n",
      "epsilon value= 0.068\n",
      "Classification: 6 - Confidence: 0.9999885559082031\n",
      "epsilon value= 0.069\n",
      "Classification: 6 - Confidence: 0.9999887943267822\n",
      "epsilon value= 0.07\n",
      "Classification: 6 - Confidence: 0.9999891519546509\n",
      "epsilon value= 0.07100000000000001\n",
      "Classification: 6 - Confidence: 0.9999892711639404\n",
      "epsilon value= 0.07200000000000001\n",
      "Classification: 6 - Confidence: 0.99998939037323\n",
      "epsilon value= 0.073\n",
      "Classification: 6 - Confidence: 0.9999896287918091\n",
      "epsilon value= 0.074\n",
      "Classification: 6 - Confidence: 0.9999896287918091\n",
      "epsilon value= 0.075\n",
      "Classification: 6 - Confidence: 0.9999897480010986\n",
      "epsilon value= 0.076\n",
      "Classification: 6 - Confidence: 0.9999902248382568\n",
      "epsilon value= 0.077\n",
      "Classification: 6 - Confidence: 0.9999903440475464\n",
      "epsilon value= 0.078\n",
      "Classification: 6 - Confidence: 0.9999905824661255\n",
      "epsilon value= 0.079\n",
      "Classification: 6 - Confidence: 0.9999908208847046\n",
      "epsilon value= 0.08\n",
      "Classification: 6 - Confidence: 0.9999910593032837\n",
      "epsilon value= 0.081\n",
      "Classification: 6 - Confidence: 0.9999915361404419\n",
      "epsilon value= 0.082\n",
      "Classification: 6 - Confidence: 0.999991774559021\n",
      "epsilon value= 0.083\n",
      "Classification: 6 - Confidence: 0.9999918937683105\n",
      "epsilon value= 0.084\n",
      "Classification: 6 - Confidence: 0.9999921321868896\n",
      "epsilon value= 0.085\n",
      "Classification: 6 - Confidence: 0.9999924898147583\n",
      "epsilon value= 0.08600000000000001\n",
      "Classification: 6 - Confidence: 0.9999929666519165\n",
      "epsilon value= 0.08700000000000001\n",
      "Classification: 6 - Confidence: 0.9999932050704956\n",
      "epsilon value= 0.088\n",
      "Classification: 6 - Confidence: 0.9999935626983643\n",
      "epsilon value= 0.089\n",
      "Classification: 6 - Confidence: 0.9999939203262329\n",
      "epsilon value= 0.09\n",
      "Classification: 6 - Confidence: 0.9999943971633911\n",
      "epsilon value= 0.091\n",
      "Classification: 6 - Confidence: 0.9999945163726807\n",
      "epsilon value= 0.092\n",
      "Classification: 6 - Confidence: 0.9999948740005493\n",
      "epsilon value= 0.093\n",
      "Classification: 6 - Confidence: 0.999995231628418\n",
      "epsilon value= 0.094\n",
      "Classification: 6 - Confidence: 0.9999953508377075\n",
      "epsilon value= 0.095\n",
      "Classification: 6 - Confidence: 0.9999955892562866\n",
      "epsilon value= 0.096\n",
      "Classification: 6 - Confidence: 0.9999959468841553\n",
      "epsilon value= 0.097\n",
      "Classification: 6 - Confidence: 0.9999960660934448\n",
      "epsilon value= 0.098\n",
      "Classification: 6 - Confidence: 0.9999963045120239\n",
      "epsilon value= 0.099\n",
      "Classification: 6 - Confidence: 0.9999964237213135\n"
     ]
    }
   ],
   "source": [
    "for n in range (1,100):\n",
    "\n",
    "  epsilon = 0.001*n\n",
    "  adv_image = fgsm(model, original_image, original_label, epsilon)\n",
    "  adv_image_pred = model.predict(adv_image)\n",
    "  print ('epsilon value=',epsilon)\n",
    "  print(\"Classification: {} - Confidence: {}\".format(np.argmax(adv_image_pred),np.max(adv_image_pred)))"
   ]
  }
 ],
 "metadata": {
  "accelerator": "GPU",
  "colab": {
   "collapsed_sections": [
    "Vs9wD38he0cM",
    "b4kgPQqp-hwR",
    "QpC4KgTS_Fj8",
    "3NkfwLkjtNNy",
    "qc_hLUbLAN55",
    "ZuO0xjqKKMmt",
    "cSVL3kesCBAd",
    "9SGiWcOE7B4X",
    "ulbHU1bLNh7c",
    "whIrvHnzUSAu",
    "vgPdPVUdbbJu",
    "AWyWu49L4LRy",
    "zta5bsYB88yO",
    "9_EDE61bMzgW"
   ],
   "name": "FGSM_Attack.ipynb",
   "provenance": []
  },
  "kernelspec": {
   "display_name": "Python 3",
   "language": "python",
   "name": "python3"
  },
  "language_info": {
   "codemirror_mode": {
    "name": "ipython",
    "version": 3
   },
   "file_extension": ".py",
   "mimetype": "text/x-python",
   "name": "python",
   "nbconvert_exporter": "python",
   "pygments_lexer": "ipython3",
   "version": "3.7.4"
  }
 },
 "nbformat": 4,
 "nbformat_minor": 1
}
