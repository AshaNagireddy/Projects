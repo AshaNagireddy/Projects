{
 "cells": [
  {
   "cell_type": "code",
   "execution_count": 6,
   "metadata": {},
   "outputs": [],
   "source": [
    "import json\n",
    "import pandas as pd\n",
    "import pyspark\n",
    "from pyspark.sql.types import *\n",
    "import boto"
   ]
  },
  {
   "cell_type": "markdown",
   "metadata": {},
   "source": [
    "Retreiving data from s3 bucket and loading into spark dataframe"
   ]
  },
  {
   "cell_type": "code",
   "execution_count": 7,
   "metadata": {},
   "outputs": [],
   "source": [
    "filepath = \"s3a://anagi-spark8/input\"\n",
    "df = spark.read.json(filepath)"
   ]
  },
  {
   "cell_type": "code",
   "execution_count": 8,
   "metadata": {},
   "outputs": [
    {
     "name": "stdout",
     "output_type": "stream",
     "text": [
      "+-----------+----------+---------+------+-------------+--------+---------+-----+--------------------+------+--------+-----------------+---------+--------------------+------+-------------+--------------------+------+\n",
      "|     artist|      auth|firstName|gender|itemInSession|lastName|   length|level|            location|method|    page|     registration|sessionId|                song|status|           ts|           userAgent|userId|\n",
      "+-----------+----------+---------+------+-------------+--------+---------+-----+--------------------+------+--------+-----------------+---------+--------------------+------+-------------+--------------------+------+\n",
      "|   Harmonia| Logged In|     Ryan|     M|            0|   Smith|655.77751| free|San Jose-Sunnyval...|   PUT|NextSong|1.541016707796E12|      583|       Sehr kosmisch|   200|1542241826796|\"Mozilla/5.0 (X11...|    26|\n",
      "|The Prodigy| Logged In|     Ryan|     M|            1|   Smith|260.07465| free|San Jose-Sunnyval...|   PUT|NextSong|1.541016707796E12|      583|     The Big Gundown|   200|1542242481796|\"Mozilla/5.0 (X11...|    26|\n",
      "|      Train| Logged In|     Ryan|     M|            2|   Smith|205.45261| free|San Jose-Sunnyval...|   PUT|NextSong|1.541016707796E12|      583|            Marry Me|   200|1542242741796|\"Mozilla/5.0 (X11...|    26|\n",
      "|       null| Logged In|    Wyatt|     M|            0|   Scott|     null| free|Eureka-Arcata-For...|   GET|    Home|1.540872073796E12|      563|                null|   200|1542247071796|Mozilla/5.0 (Wind...|     9|\n",
      "|       null| Logged In|   Austin|     M|            0| Rosales|     null| free|New York-Newark-J...|   GET|    Home|1.541059521796E12|      521|                null|   200|1542252577796|Mozilla/5.0 (Wind...|    12|\n",
      "|Sony Wonder| Logged In|   Samuel|     M|            0|Gonzalez|218.06975| free|Houston-The Woodl...|   PUT|NextSong|1.540492941796E12|      597|           Blackbird|   200|1542253449796|\"Mozilla/5.0 (Mac...|    61|\n",
      "|       null| Logged In|   Samuel|     M|            1|Gonzalez|     null| free|Houston-The Woodl...|   GET|   About|1.540492941796E12|      597|                null|   200|1542253460796|\"Mozilla/5.0 (Mac...|    61|\n",
      "|       null|Logged Out|     null|  null|            0|    null|     null| paid|                null|   PUT|   Login|             null|      602|                null|   307|1542260074796|                null|      |\n",
      "|       null| Logged In|    Tegan|     F|            1|  Levine|     null| paid|Portland-South Po...|   GET|    Home|1.540794356796E12|      602|                null|   200|1542260277796|\"Mozilla/5.0 (Mac...|    80|\n",
      "|  Van Halen| Logged In|    Tegan|     F|            2|  Levine|289.38404| paid|Portland-South Po...|   PUT|NextSong|1.540794356796E12|      602|Best Of Both Worl...|   200|1542260935796|\"Mozilla/5.0 (Mac...|    80|\n",
      "+-----------+----------+---------+------+-------------+--------+---------+-----+--------------------+------+--------+-----------------+---------+--------------------+------+-------------+--------------------+------+\n",
      "only showing top 10 rows\n",
      "\n"
     ]
    }
   ],
   "source": [
    "df.show(10)"
   ]
  },
  {
   "cell_type": "code",
   "execution_count": 9,
   "metadata": {},
   "outputs": [
    {
     "data": {
      "text/plain": [
       "8056"
      ]
     },
     "execution_count": 9,
     "metadata": {},
     "output_type": "execute_result"
    }
   ],
   "source": [
    "df.count()"
   ]
  },
  {
   "cell_type": "markdown",
   "metadata": {},
   "source": [
    "# First DataFrame - includes atomic data about the event logs"
   ]
  },
  {
   "cell_type": "code",
   "execution_count": 13,
   "metadata": {},
   "outputs": [],
   "source": [
    "from pyspark.sql.window import Window\n",
    "from pyspark.sql.functions import row_number\n",
    "\n",
    "w = Window.orderBy(\"ts\") \n",
    "songDF = df.withColumn(\"id\", row_number().over(w)).selectExpr('id','ts', 'userId AS user_id', 'song')"
   ]
  },
  {
   "cell_type": "code",
   "execution_count": 14,
   "metadata": {},
   "outputs": [
    {
     "name": "stdout",
     "output_type": "stream",
     "text": [
      "+---+-------------+-------+--------------------+\n",
      "| id|           ts|user_id|                song|\n",
      "+---+-------------+-------+--------------------+\n",
      "|  1|1541105830796|     39|                null|\n",
      "|  2|1541106106796|      8|                null|\n",
      "|  3|1541106106796|      8|        You Gotta Be|\n",
      "|  4|1541106132796|      8|                null|\n",
      "|  5|1541106352796|      8|             Flat 55|\n",
      "|  6|1541106496796|      8|Quem Quiser Encon...|\n",
      "|  7|1541106673796|      8|           Eriatarka|\n",
      "|  8|1541107053796|      8|     Becoming Insane|\n",
      "|  9|1541107493796|      8|     Congratulations|\n",
      "| 10|1541107734796|      8|          Once again|\n",
      "+---+-------------+-------+--------------------+\n",
      "only showing top 10 rows\n",
      "\n"
     ]
    }
   ],
   "source": [
    "songDF.show(10)"
   ]
  },
  {
   "cell_type": "markdown",
   "metadata": {},
   "source": [
    "# second DataFrame - consists of your user data (firstName, lastName, gender, location, level, userId) for this(only distinct users)"
   ]
  },
  {
   "cell_type": "code",
   "execution_count": 15,
   "metadata": {},
   "outputs": [],
   "source": [
    "userDF = df.selectExpr(\"userId as user_id\", \"firstName as first_name\", \"lastName as last_name\", \"gender\",\"location\",\"level\").dropDuplicates([\"user_id\"])"
   ]
  },
  {
   "cell_type": "code",
   "execution_count": 16,
   "metadata": {},
   "outputs": [
    {
     "name": "stdout",
     "output_type": "stream",
     "text": [
      "+-------+----------+---------+------+--------------------+-----+\n",
      "|user_id|first_name|last_name|gender|            location|level|\n",
      "+-------+----------+---------+------+--------------------+-----+\n",
      "|     51|      Maia|    Burke|     F|Houston-The Woodl...| free|\n",
      "|      7|    Adelyn|   Jordan|     F|Chicago-Napervill...| free|\n",
      "|     15|      Lily|     Koch|     F|Chicago-Napervill...| paid|\n",
      "|     54|     Kaleb|     Cook|     M|       Yuba City, CA| free|\n",
      "|    101|    Jayden|      Fox|     M|New Orleans-Metai...| free|\n",
      "|     11| Christian|   Porter|     F|  Elkhart-Goshen, IN| free|\n",
      "|     29|Jacqueline|    Lynch|     F|Atlanta-Sandy Spr...| paid|\n",
      "|     69|  Anabelle|  Simpson|     F|Philadelphia-Camd...| free|\n",
      "|     42|    Harper|  Barrett|     M|New York-Newark-J...| paid|\n",
      "|     73|     Jacob|    Klein|     M|Tampa-St. Petersb...| paid|\n",
      "|     87|    Dustin|      Lee|     M|Myrtle Beach-Conw...| free|\n",
      "|     64|    Hannah|  Calhoun|     F|Los Angeles-Long ...| free|\n",
      "|      3|     Isaac|   Valdez|     M|         Saginaw, MI| free|\n",
      "|     30|     Avery|  Watkins|     F|San Jose-Sunnyval...| paid|\n",
      "|     34|    Evelin|    Ayala|     F|Milwaukee-Waukesh...| free|\n",
      "|     59|      Lily|   Cooper|     F|        Columbia, SC| free|\n",
      "|      8|    Kaylee|  Summers|     F|Phoenix-Mesa-Scot...| free|\n",
      "|     22|      Sean|   Wilson|     F|Philadelphia-Camd...| free|\n",
      "|     28|  Brantley|     West|     M|Portland-Vancouve...| free|\n",
      "|     85|   Kinsley|    Young|     F|       Red Bluff, CA| paid|\n",
      "+-------+----------+---------+------+--------------------+-----+\n",
      "only showing top 20 rows\n",
      "\n"
     ]
    }
   ],
   "source": [
    "userDF.show()"
   ]
  },
  {
   "cell_type": "markdown",
   "metadata": {},
   "source": [
    "# The third DataFrame - contains a composite key the id and artist."
   ]
  },
  {
   "cell_type": "code",
   "execution_count": 17,
   "metadata": {},
   "outputs": [],
   "source": [
    "import pyspark.sql.functions as f\n",
    "temp = df.groupBy('artist').count().select('artist', f.col('count'))"
   ]
  },
  {
   "cell_type": "code",
   "execution_count": 18,
   "metadata": {},
   "outputs": [],
   "source": [
    "from pyspark.sql.window import Window  \n",
    "w = Window.orderBy(\"artist\") \n",
    "df3 = temp.withColumn('id', row_number().over(w)).selectExpr('id','artist','count')"
   ]
  },
  {
   "cell_type": "code",
   "execution_count": 19,
   "metadata": {},
   "outputs": [
    {
     "name": "stdout",
     "output_type": "stream",
     "text": [
      "+---+--------------------+-----+\n",
      "| id|              artist|count|\n",
      "+---+--------------------+-----+\n",
      "|  1|                null| 1236|\n",
      "|  2|                 !!!|    1|\n",
      "|  3|'N Sync/Phil Collins|    1|\n",
      "|  4|  + / - {Plus/Minus}|    2|\n",
      "|  5|                 +44|    1|\n",
      "|  6|        1 Mile North|    1|\n",
      "|  7|            10 Years|    1|\n",
      "|  8|      10_000 Maniacs|    1|\n",
      "|  9|                10cc|    3|\n",
      "| 10|           12 Stones|    3|\n",
      "| 11|           1200 Mics|    1|\n",
      "| 12|              22-20s|    1|\n",
      "| 13|           23 Skidoo|    2|\n",
      "| 14|                2Mex|    1|\n",
      "| 15|        3 Doors Down|   13|\n",
      "| 16|                 311|    5|\n",
      "| 17|          38 Special|    2|\n",
      "| 18|               3OH!3|    4|\n",
      "| 19|             4 Skins|    3|\n",
      "| 20|               49ers|    1|\n",
      "+---+--------------------+-----+\n",
      "only showing top 20 rows\n",
      "\n"
     ]
    }
   ],
   "source": [
    "df3.show()"
   ]
  },
  {
   "cell_type": "markdown",
   "metadata": {},
   "source": [
    "# Writing these three to S3 in Parquet format"
   ]
  },
  {
   "cell_type": "code",
   "execution_count": 23,
   "metadata": {},
   "outputs": [],
   "source": [
    "songDF.write.parquet(\"s3a://anagi-spark8/output/songDF/\")\n",
    "userDF.write.parquet(\"s3a://anagi-spark8/output/userDF/\")\n",
    "df3.write.parquet(\"s3a://anagi-spark8/output/artistDF/\")"
   ]
  },
  {
   "cell_type": "markdown",
   "metadata": {},
   "source": [
    "# using the artist DataFrame, compute an aggrate to show the top 10 artists"
   ]
  },
  {
   "cell_type": "code",
   "execution_count": 24,
   "metadata": {},
   "outputs": [
    {
     "name": "stdout",
     "output_type": "stream",
     "text": [
      "+----+--------------------+-----+\n",
      "|  id|              artist|count|\n",
      "+----+--------------------+-----+\n",
      "| 580|            Coldplay|   58|\n",
      "|1504|       Kings Of Leon|   55|\n",
      "| 823|       Dwight Yoakam|   38|\n",
      "|2660|      The Black Keys|   36|\n",
      "|1003|Florence + The Ma...|   35|\n",
      "|1263|        Jack Johnson|   35|\n",
      "|1916|                Muse|   35|\n",
      "| 310|            BjÃÂ¶rk|   33|\n",
      "|1350|          John Mayer|   31|\n",
      "|2739|         The Killers|   31|\n",
      "+----+--------------------+-----+\n",
      "only showing top 10 rows\n",
      "\n"
     ]
    }
   ],
   "source": [
    "df3.filter((df3.artist != 'null')).sort('count', ascending=False).show(10)"
   ]
  }
 ],
 "metadata": {
  "kernelspec": {
   "display_name": "Python 2",
   "language": "python",
   "name": "python2"
  },
  "language_info": {
   "codemirror_mode": {
    "name": "ipython",
    "version": 2
   },
   "file_extension": ".py",
   "mimetype": "text/x-python",
   "name": "python",
   "nbconvert_exporter": "python",
   "pygments_lexer": "ipython2",
   "version": "2.7.16"
  }
 },
 "nbformat": 4,
 "nbformat_minor": 2
}
