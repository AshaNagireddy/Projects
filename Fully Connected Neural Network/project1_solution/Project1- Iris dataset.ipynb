{
 "cells": [
  {
   "cell_type": "code",
   "execution_count": 6,
   "metadata": {},
   "outputs": [],
   "source": [
    "import numpy as np\n",
    "from sklearn import datasets\n",
    "import random\n",
    "import matplotlib.pyplot as p\n",
    "import math"
   ]
  },
  {
   "cell_type": "code",
   "execution_count": 7,
   "metadata": {},
   "outputs": [],
   "source": [
    "iris = datasets.load_iris()\n",
    "X = iris.data\n",
    "y = iris.target"
   ]
  },
  {
   "cell_type": "code",
   "execution_count": 8,
   "metadata": {},
   "outputs": [],
   "source": [
    "train_idx = np.concatenate((np.arange(0,40),np.arange(50,90),np.arange(100,140)))\n",
    "test_idx = np.setdiff1d(np.arange(0,150), train_idx)\n",
    "X_train = X[train_idx]"
   ]
  },
  {
   "cell_type": "code",
   "execution_count": 9,
   "metadata": {},
   "outputs": [],
   "source": [
    "#normalize the training data in the range of [0,1]\n",
    "max_X = np.max(X_train, axis=0)\n",
    "min_X = np.min(X_train, axis=0)\n",
    "X_train = (X_train - min_X)/(max_X-min_X)"
   ]
  },
  {
   "cell_type": "code",
   "execution_count": 10,
   "metadata": {},
   "outputs": [],
   "source": [
    "X_test = X[test_idx]\n",
    "X_test = (X_test - min_X)/(max_X-min_X)"
   ]
  },
  {
   "cell_type": "code",
   "execution_count": 11,
   "metadata": {},
   "outputs": [],
   "source": [
    "y_train = y[train_idx]\n",
    "y_test = y[test_idx]"
   ]
  },
  {
   "cell_type": "code",
   "execution_count": 67,
   "metadata": {},
   "outputs": [],
   "source": [
    "# pseudo random generator: random.gauss(mu, sigma)\n",
    "def weights(m,n):\n",
    "    l1 = []\n",
    "    \n",
    "    for i in range(m):\n",
    "        l2 =[]\n",
    "        for j in range(n):\n",
    "            l2.append(random.gauss(0,math.sqrt(2/m)))\n",
    "        l1.append(l2)\n",
    "    return np.array(l1)"
   ]
  },
  {
   "cell_type": "code",
   "execution_count": 13,
   "metadata": {},
   "outputs": [],
   "source": [
    "def ReLU(x):\n",
    "    return np.maximum(0,x)"
   ]
  },
  {
   "cell_type": "code",
   "execution_count": 14,
   "metadata": {},
   "outputs": [],
   "source": [
    "#softmax function\n",
    "def softmax(x):\n",
    "    return np.exp(x) / np.exp(x).sum(axis=0)\n",
    "    "
   ]
  },
  {
   "cell_type": "code",
   "execution_count": 68,
   "metadata": {},
   "outputs": [],
   "source": [
    "def crossEntropy(pred,y):\n",
    "    n = len(pred)\n",
    "    probs = -np.log(pred[range(n),y])    \n",
    "    return np.sum(probs)/n"
   ]
  },
  {
   "cell_type": "code",
   "execution_count": 16,
   "metadata": {},
   "outputs": [],
   "source": [
    "#ReLU derivation\n",
    "def backReLU(x):\n",
    "    x[x <= 0] = 0\n",
    "    x[x > 0] = 1\n",
    "    return x"
   ]
  },
  {
   "cell_type": "code",
   "execution_count": 17,
   "metadata": {},
   "outputs": [],
   "source": [
    "#softmax back propagation\n",
    "def backSoftmax(x):\n",
    "    l = len(x)\n",
    "    for i in x:\n",
    "        i = (1-i)/l\n",
    "    return x"
   ]
  },
  {
   "cell_type": "code",
   "execution_count": 62,
   "metadata": {},
   "outputs": [],
   "source": [
    "#main function..\n",
    "\n",
    "def neuralNetwork(X,Y,N,alpha,reg):\n",
    "    \n",
    "    D = len(X[0])\n",
    "    L = len(X)\n",
    "    C = len(list(set(Y)))\n",
    "    \n",
    "    #initializing weights for all 3 layers\n",
    "    W1 = weights(D,N)\n",
    "    W2 = weights(N,N)\n",
    "    W3 = weights(N,C)\n",
    "    \n",
    "    #initializing bias with zero\n",
    "    b1 = np.zeros((1,N))\n",
    "    b2 = np.zeros((1,N))\n",
    "    b3 = np.zeros((1,C))\n",
    "    \n",
    "    i = 1\n",
    "    acc_lst = []\n",
    "    loss_lst = []\n",
    "    #loop for 1000 ephocs...\n",
    "    while i<=1000:\n",
    "        \"\"\"Layer1\"\"\"\n",
    "        #ReLU activation\n",
    "        prod = np.dot(X,W1)+b1\n",
    "        h1 = ReLU(prod)\n",
    "        \n",
    "        \"\"\"Layer2\"\"\"\n",
    "        #ReLU activation\n",
    "        prod = np.dot(h1,W2)+b2\n",
    "        h2 = ReLU(prod)\n",
    "        \n",
    "        \"\"\"Layer3\"\"\"\n",
    "        prod = np.dot(h2,W3)+b3\n",
    "        output = softmax(prod)\n",
    "        \n",
    "        \"\"\"Cross entropy\"\"\"\n",
    "        loss = crossEntropy(output,Y)\n",
    "        \n",
    "        #extracting details for each 100 epochs\n",
    "        if i % 100 == 0:\n",
    "            loss_lst.append(loss)\n",
    "            predicted_class = np.argmax(output, axis=1)\n",
    "            acc = 100*np.mean(predicted_class == Y)\n",
    "            acc_lst.append(acc)\n",
    "            print(\"iteration %d: loss %f, accuracy %f\" % (i, loss,acc))\n",
    "            \n",
    "           \n",
    "        #compute the gradient on output\n",
    "        temp_out = output\n",
    "        temp_out[range(L),Y] -= 1\n",
    "        temp_out /= L\n",
    "        \n",
    "        \"\"\"Layer3\"\"\"\n",
    "        #backpropagate softmax\n",
    "        dOut = backSoftmax(temp_out)\n",
    "        \n",
    "        W_3 = np.dot(h2.T,dOut)\n",
    "        db3 = np.sum(dOut, axis=0, keepdims=True)\n",
    "        h2_new = np.dot(dOut, W3.T)\n",
    "        \n",
    "        \"\"\"Layer2\"\"\"\n",
    "        #back propagate ReLU\n",
    "        h2_new = backReLU(h2_new)\n",
    "        \n",
    "        W_2 = np.dot(h1.T,h2_new)\n",
    "        db2 = np.sum(h2_new, axis=0, keepdims=True)\n",
    "        h1_new = np.dot(h2_new, W2.T)\n",
    "\n",
    "        \"\"\"Layer1\"\"\"\n",
    "        #back propagate ReLU\n",
    "        h1_new= backReLU(h1_new)\n",
    "\n",
    "        W_1 = np.dot(X.T,h1_new)\n",
    "        db1 = np.sum(h1_new, axis=0, keepdims=True)\n",
    "        \n",
    "        #regularizing weights\n",
    "        W_3 += (reg * W3)\n",
    "        W_2 += (reg * W2)\n",
    "        W_1 += (reg * W1)\n",
    "\n",
    "\n",
    "        # perform a parameter update\n",
    "        W1 += -alpha * W_1\n",
    "        b1 += -alpha * db1\n",
    "        W2 += -alpha * W_2\n",
    "        b2 += -alpha * db2\n",
    "        W3 += -alpha * W_3\n",
    "        b3 += -alpha * db3\n",
    "\n",
    "        i += 1\n",
    "    \n",
    "    \n",
    "    return output,acc_lst,loss_lst"
   ]
  },
  {
   "cell_type": "markdown",
   "metadata": {},
   "source": [
    "Train dataset:"
   ]
  },
  {
   "cell_type": "code",
   "execution_count": 50,
   "metadata": {},
   "outputs": [
    {
     "name": "stdout",
     "output_type": "stream",
     "text": [
      "iteration 100: loss 4.639546, accuracy 63.333333\n",
      "iteration 200: loss 4.584466, accuracy 65.000000\n",
      "iteration 300: loss 4.598123, accuracy 64.166667\n",
      "iteration 400: loss 4.651339, accuracy 64.166667\n",
      "iteration 500: loss 4.649569, accuracy 64.166667\n",
      "iteration 600: loss 4.648859, accuracy 64.166667\n",
      "iteration 700: loss 4.648573, accuracy 64.166667\n",
      "iteration 800: loss 4.648458, accuracy 64.166667\n",
      "iteration 900: loss 4.648412, accuracy 64.166667\n",
      "iteration 1000: loss 4.648393, accuracy 64.166667\n"
     ]
    },
    {
     "data": {
      "image/png": "[encoded data removed]",
      "text/plain": [
       "<Figure size 432x288 with 1 Axes>"
      ]
     },
     "metadata": {
      "needs_background": "light"
     },
     "output_type": "display_data"
    }
   ],
   "source": [
    "N = 100\n",
    "alpha = 0.01\n",
    "reg = 0.5\n",
    "y_out,acc_lst,loss_lst = neuralNetwork(X_train,y_train,N,alpha,reg)\n",
    "\n",
    "#plot\n",
    "\n",
    "ephocs_lst =[100,200,300,400,500,600,700,800,900,1000]\n",
    "p.plot(ephocs_lst, acc_lst)\n",
    "p.xlabel(\"Epochs\")\n",
    "p.ylabel(\"accuracy\")\n",
    "p.title(\"accuracy VS epochs\")\n",
    "p.show()"
   ]
  },
  {
   "cell_type": "markdown",
   "metadata": {},
   "source": [
    "We can choose our model at 1000th epoch as in the range of 1000 epochs, at 1000th epoch we obtained the maximum accuracy."
   ]
  },
  {
   "cell_type": "markdown",
   "metadata": {},
   "source": [
    "Test dataset:"
   ]
  },
  {
   "cell_type": "code",
   "execution_count": 55,
   "metadata": {},
   "outputs": [
    {
     "name": "stdout",
     "output_type": "stream",
     "text": [
      "iteration 100: loss 3.327442, accuracy 43.333333\n",
      "iteration 200: loss 3.360638, accuracy 66.666667\n",
      "iteration 300: loss 3.401454, accuracy 60.000000\n",
      "iteration 400: loss 3.401870, accuracy 36.666667\n",
      "iteration 500: loss 3.401883, accuracy 36.666667\n",
      "iteration 600: loss 3.401888, accuracy 36.666667\n",
      "iteration 700: loss 3.401890, accuracy 36.666667\n",
      "iteration 800: loss 3.401891, accuracy 36.666667\n",
      "iteration 900: loss 3.401892, accuracy 36.666667\n",
      "iteration 1000: loss 3.401892, accuracy 36.666667\n"
     ]
    },
    {
     "data": {
      "image/png": "[encoded data removed]",
      "text/plain": [
       "<Figure size 432x288 with 1 Axes>"
      ]
     },
     "metadata": {
      "needs_background": "light"
     },
     "output_type": "display_data"
    }
   ],
   "source": [
    "#Test the performance of the learned model on the test data\n",
    "N = 100\n",
    "alpha = 0.01\n",
    "reg = 0.5\n",
    "y_out,acc_lst,loss_lst = neuralNetwork(X_test,y_test,N,alpha,reg)\n",
    "\n",
    "#plot\n",
    "import matplotlib.pyplot as p\n",
    "ephocs_lst =[100,200,300,400,500,600,700,800,900,1000]\n",
    "p.plot(ephocs_lst, acc_lst)\n",
    "p.xlabel(\"Epochs\")\n",
    "p.ylabel(\"accuracy\")\n",
    "p.title(\"accuracy VS epochs\")\n",
    "p.show()"
   ]
  },
  {
   "cell_type": "markdown",
   "metadata": {},
   "source": [
    "We can choose our model at 600 epoch as in the range of 1000 epochs, at 600th epoch we obtained the maximum accuracy."
   ]
  }
 ],
 "metadata": {
  "kernelspec": {
   "display_name": "Python 3",
   "language": "python",
   "name": "python3"
  },
  "language_info": {
   "codemirror_mode": {
    "name": "ipython",
    "version": 3
   },
   "file_extension": ".py",
   "mimetype": "text/x-python",
   "name": "python",
   "nbconvert_exporter": "python",
   "pygments_lexer": "ipython3",
   "version": "3.7.4"
  }
 },
 "nbformat": 4,
 "nbformat_minor": 2
}
